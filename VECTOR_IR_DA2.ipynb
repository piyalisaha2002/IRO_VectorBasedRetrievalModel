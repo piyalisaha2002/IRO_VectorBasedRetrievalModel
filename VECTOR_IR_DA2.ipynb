{
 "cells": [
  {
   "cell_type": "code",
   "execution_count": 4,
   "id": "19094ec0",
   "metadata": {},
   "outputs": [
    {
     "name": "stderr",
     "output_type": "stream",
     "text": [
      "[nltk_data] Downloading package punkt to\n",
      "[nltk_data]     C:\\Users\\apurv\\AppData\\Roaming\\nltk_data...\n",
      "[nltk_data] Error downloading 'punkt' from\n",
      "[nltk_data]     <https://raw.githubusercontent.com/nltk/nltk_data/gh-\n",
      "[nltk_data]     pages/packages/tokenizers/punkt.zip>:   <urlopen error\n",
      "[nltk_data]     [Errno 2] No such file or directory>\n",
      "[nltk_data] Downloading package wordnet to\n",
      "[nltk_data]     C:\\Users\\apurv\\AppData\\Roaming\\nltk_data...\n",
      "[nltk_data]   Package wordnet is already up-to-date!\n",
      "[nltk_data] Downloading package omw-1.4 to\n",
      "[nltk_data]     C:\\Users\\apurv\\AppData\\Roaming\\nltk_data...\n",
      "[nltk_data]   Package omw-1.4 is already up-to-date!\n"
     ]
    },
    {
     "data": {
      "text/plain": [
       "True"
      ]
     },
     "execution_count": 4,
     "metadata": {},
     "output_type": "execute_result"
    }
   ],
   "source": [
    "import math\n",
    "from collections import Counter\n",
    "from nltk.tokenize import word_tokenize\n",
    "from nltk.stem import WordNetLemmatizer\n",
    "import nltk\n",
    "nltk.download('punkt')\n",
    "nltk.download('wordnet')\n",
    "nltk.download('omw-1.4')"
   ]
  },
  {
   "cell_type": "code",
   "execution_count": 5,
   "id": "b52c2f1a",
   "metadata": {},
   "outputs": [],
   "source": [
    "# Documents\n",
    "docs =[ \"Every year Maha Shivratri is celebrated with a lot of pomp and grandeur. It is considered to be a very special time of the year since millions of people celebrate this momentous occasion with a lot of fervour and glee.\",       \"Lord Shiva devotees celebrate this occasion with a lot of grandness. It is accompanied by folk dances, songs, prayers, chants, mantras etc. This year, the beautiful occasion of Maha Shivratri will be celebrated on February 18.\",       \"People keep a fast on this Maha shivratri, stay awake at night and pray to the lord for blessings, happiness, hope and prosperity. This festival holds a lot of significance and is considered to be one of the most important festivals in India.\",       \"The festival of Maha Shivratri will be celebrated on February 18 and is a very auspicious festival. This Hindu festival celebrates the power of Lord Shiva. Lord Shiva protects his devotees from negative and evil spirits. He is the epitome of powerful and auspicious energy\"]\n",
    "\n",
    "# Query\n",
    "query = \"Maha Shivratri will be celebrated on February 18.\""
   ]
  },
  {
   "cell_type": "code",
   "execution_count": 13,
   "id": "c202611c",
   "metadata": {},
   "outputs": [
    {
     "name": "stderr",
     "output_type": "stream",
     "text": [
      "[nltk_data] Downloading package punkt to\n",
      "[nltk_data]     C:\\Users\\apurv\\AppData\\Roaming\\nltk_data...\n",
      "[nltk_data]   Package punkt is already up-to-date!\n"
     ]
    },
    {
     "data": {
      "text/plain": [
       "True"
      ]
     },
     "execution_count": 13,
     "metadata": {},
     "output_type": "execute_result"
    }
   ],
   "source": [
    "import nltk \n",
    "nltk.download('punkt')"
   ]
  },
  {
   "cell_type": "code",
   "execution_count": 14,
   "id": "fe6ffaae",
   "metadata": {},
   "outputs": [],
   "source": [
    "# Preprocessing\n",
    "lemmatizer = WordNetLemmatizer()\n",
    "\n",
    "def preprocess(text):\n",
    "    tokens = word_tokenize(text.lower())\n",
    "    lemmas = [lemmatizer.lemmatize(token) for token in tokens]\n",
    "    return lemmas\n",
    "\n",
    "doc_tokens = [preprocess(doc) for doc in docs]\n",
    "query_tokens = preprocess(query)"
   ]
  },
  {
   "cell_type": "code",
   "execution_count": 15,
   "id": "42c5a035",
   "metadata": {},
   "outputs": [
    {
     "name": "stdout",
     "output_type": "stream",
     "text": [
      "Vocabulary of terms:\n",
      "[',', '.', '18', 'a', 'accompanied', 'and', 'at', 'auspicious', 'awake', 'be', 'beautiful', 'blessing', 'by', 'celebrate', 'celebrated', 'celebrates', 'chant', 'considered', 'dance', 'devotee', 'energy', 'epitome', 'etc', 'every', 'evil', 'fast', 'february', 'fervour', 'festival', 'folk', 'for', 'from', 'glee', 'grandeur', 'grandness', 'happiness', 'he', 'hindu', 'his', 'hold', 'hope', 'important', 'in', 'india', 'is', 'it', 'keep', 'lord', 'lot', 'maha', 'mantra', 'million', 'momentous', 'most', 'negative', 'night', 'occasion', 'of', 'on', 'one', 'people', 'pomp', 'power', 'powerful', 'pray', 'prayer', 'prosperity', 'protects', 'shiva', 'shivratri', 'significance', 'since', 'song', 'special', 'spirit', 'stay', 'the', 'this', 'time', 'to', 'very', 'will', 'with', 'year']\n"
     ]
    }
   ],
   "source": [
    "# Vocabulary of Terms\n",
    "all_tokens_set = set([token for tokens in doc_tokens for token in tokens])\n",
    "print(\"Vocabulary of terms:\")\n",
    "print(sorted(all_tokens_set))"
   ]
  },
  {
   "cell_type": "code",
   "execution_count": 16,
   "id": "4b4a981e",
   "metadata": {},
   "outputs": [],
   "source": [
    "# Term Frequency\n",
    "doc_word_counts = [Counter(tokens) for tokens in doc_tokens]\n",
    "doc_term_frequency = []\n",
    "for word_count in doc_word_counts:\n",
    "    frequencies = {word: count/sum(word_count.values()) for word, count in word_count.items()}\n",
    "    doc_term_frequency.append(frequencies)"
   ]
  },
  {
   "cell_type": "code",
   "execution_count": 17,
   "id": "de3b217c",
   "metadata": {},
   "outputs": [],
   "source": [
    "# Inverse Document Frequency\n",
    "def inverse_document_frequency(term, all_docs_tokens):\n",
    "    num_docs_with_term = sum(1 for doc in all_docs_tokens if term in doc)\n",
    "    if num_docs_with_term > 0:\n",
    "        return math.log(len(all_docs_tokens) / num_docs_with_term)\n",
    "    else:\n",
    "        return 0\n",
    "\n",
    "doc_inverse_document_frequency = {token: inverse_document_frequency(token, doc_tokens) for token in all_tokens_set}"
   ]
  },
  {
   "cell_type": "code",
   "execution_count": 18,
   "id": "40fb594a",
   "metadata": {},
   "outputs": [
    {
     "name": "stdout",
     "output_type": "stream",
     "text": [
      "Term frequency:\n",
      "Document 1: {'every': 0.023809523809523808, 'year': 0.047619047619047616, 'maha': 0.023809523809523808, 'shivratri': 0.023809523809523808, 'is': 0.047619047619047616, 'celebrated': 0.023809523809523808, 'with': 0.047619047619047616, 'a': 0.07142857142857142, 'lot': 0.047619047619047616, 'of': 0.09523809523809523, 'pomp': 0.023809523809523808, 'and': 0.047619047619047616, 'grandeur': 0.023809523809523808, '.': 0.047619047619047616, 'it': 0.023809523809523808, 'considered': 0.023809523809523808, 'to': 0.023809523809523808, 'be': 0.023809523809523808, 'very': 0.023809523809523808, 'special': 0.023809523809523808, 'time': 0.023809523809523808, 'the': 0.023809523809523808, 'since': 0.023809523809523808, 'million': 0.023809523809523808, 'people': 0.023809523809523808, 'celebrate': 0.023809523809523808, 'this': 0.023809523809523808, 'momentous': 0.023809523809523808, 'occasion': 0.023809523809523808, 'fervour': 0.023809523809523808, 'glee': 0.023809523809523808}\n",
      "Document 2: {'lord': 0.022727272727272728, 'shiva': 0.022727272727272728, 'devotee': 0.022727272727272728, 'celebrate': 0.022727272727272728, 'this': 0.045454545454545456, 'occasion': 0.045454545454545456, 'with': 0.022727272727272728, 'a': 0.022727272727272728, 'lot': 0.022727272727272728, 'of': 0.045454545454545456, 'grandness': 0.022727272727272728, '.': 0.06818181818181818, 'it': 0.022727272727272728, 'is': 0.022727272727272728, 'accompanied': 0.022727272727272728, 'by': 0.022727272727272728, 'folk': 0.022727272727272728, 'dance': 0.022727272727272728, ',': 0.11363636363636363, 'song': 0.022727272727272728, 'prayer': 0.022727272727272728, 'chant': 0.022727272727272728, 'mantra': 0.022727272727272728, 'etc': 0.022727272727272728, 'year': 0.022727272727272728, 'the': 0.022727272727272728, 'beautiful': 0.022727272727272728, 'maha': 0.022727272727272728, 'shivratri': 0.022727272727272728, 'will': 0.022727272727272728, 'be': 0.022727272727272728, 'celebrated': 0.022727272727272728, 'on': 0.022727272727272728, 'february': 0.022727272727272728, '18': 0.022727272727272728}\n",
      "Document 3: {'people': 0.020833333333333332, 'keep': 0.020833333333333332, 'a': 0.041666666666666664, 'fast': 0.020833333333333332, 'on': 0.020833333333333332, 'this': 0.041666666666666664, 'maha': 0.020833333333333332, 'shivratri': 0.020833333333333332, ',': 0.0625, 'stay': 0.020833333333333332, 'awake': 0.020833333333333332, 'at': 0.020833333333333332, 'night': 0.020833333333333332, 'and': 0.0625, 'pray': 0.020833333333333332, 'to': 0.041666666666666664, 'the': 0.041666666666666664, 'lord': 0.020833333333333332, 'for': 0.020833333333333332, 'blessing': 0.020833333333333332, 'happiness': 0.020833333333333332, 'hope': 0.020833333333333332, 'prosperity': 0.020833333333333332, '.': 0.041666666666666664, 'festival': 0.041666666666666664, 'hold': 0.020833333333333332, 'lot': 0.020833333333333332, 'of': 0.041666666666666664, 'significance': 0.020833333333333332, 'is': 0.020833333333333332, 'considered': 0.020833333333333332, 'be': 0.020833333333333332, 'one': 0.020833333333333332, 'most': 0.020833333333333332, 'important': 0.020833333333333332, 'in': 0.020833333333333332, 'india': 0.020833333333333332}\n",
      "Document 4: {'the': 0.0625, 'festival': 0.0625, 'of': 0.0625, 'maha': 0.020833333333333332, 'shivratri': 0.020833333333333332, 'will': 0.020833333333333332, 'be': 0.020833333333333332, 'celebrated': 0.020833333333333332, 'on': 0.020833333333333332, 'february': 0.020833333333333332, '18': 0.020833333333333332, 'and': 0.0625, 'is': 0.041666666666666664, 'a': 0.020833333333333332, 'very': 0.020833333333333332, 'auspicious': 0.041666666666666664, '.': 0.0625, 'this': 0.020833333333333332, 'hindu': 0.020833333333333332, 'celebrates': 0.020833333333333332, 'power': 0.020833333333333332, 'lord': 0.041666666666666664, 'shiva': 0.041666666666666664, 'protects': 0.020833333333333332, 'his': 0.020833333333333332, 'devotee': 0.020833333333333332, 'from': 0.020833333333333332, 'negative': 0.020833333333333332, 'evil': 0.020833333333333332, 'spirit': 0.020833333333333332, 'he': 0.020833333333333332, 'epitome': 0.020833333333333332, 'powerful': 0.020833333333333332, 'energy': 0.020833333333333332}\n",
      "Inverse document frequency:\n",
      "hold: 1.3862943611198906\n",
      "he: 1.3862943611198906\n",
      "one: 1.3862943611198906\n",
      "spirit: 1.3862943611198906\n",
      "pray: 1.3862943611198906\n",
      "mantra: 1.3862943611198906\n",
      "celebrated: 0.28768207245178085\n",
      "prosperity: 1.3862943611198906\n",
      "year: 0.6931471805599453\n",
      "people: 0.6931471805599453\n",
      "keep: 1.3862943611198906\n",
      "fast: 1.3862943611198906\n",
      "hope: 1.3862943611198906\n",
      "a: 0.0\n",
      "grandeur: 1.3862943611198906\n",
      "february: 0.6931471805599453\n",
      "of: 0.0\n",
      "fervour: 1.3862943611198906\n",
      "chant: 1.3862943611198906\n",
      "maha: 0.0\n",
      "18: 0.6931471805599453\n",
      "celebrates: 1.3862943611198906\n",
      "most: 1.3862943611198906\n",
      "very: 0.6931471805599453\n",
      "is: 0.0\n",
      "grandness: 1.3862943611198906\n",
      "time: 1.3862943611198906\n",
      "it: 0.6931471805599453\n",
      "will: 0.6931471805599453\n",
      "blessing: 1.3862943611198906\n",
      "prayer: 1.3862943611198906\n",
      "power: 1.3862943611198906\n",
      "special: 1.3862943611198906\n",
      "devotee: 0.6931471805599453\n",
      "evil: 1.3862943611198906\n",
      "this: 0.0\n",
      "his: 1.3862943611198906\n",
      "festival: 0.6931471805599453\n",
      "be: 0.0\n",
      "protects: 1.3862943611198906\n",
      "million: 1.3862943611198906\n",
      "dance: 1.3862943611198906\n",
      "hindu: 1.3862943611198906\n",
      "negative: 1.3862943611198906\n",
      "song: 1.3862943611198906\n",
      "by: 1.3862943611198906\n",
      "auspicious: 1.3862943611198906\n",
      "beautiful: 1.3862943611198906\n",
      "occasion: 0.6931471805599453\n",
      "india: 1.3862943611198906\n",
      "for: 1.3862943611198906\n",
      "lord: 0.28768207245178085\n",
      "shiva: 0.6931471805599453\n",
      "important: 1.3862943611198906\n",
      ".: 0.0\n",
      "in: 1.3862943611198906\n",
      "folk: 1.3862943611198906\n",
      "considered: 0.6931471805599453\n",
      "lot: 0.28768207245178085\n",
      "and: 0.28768207245178085\n",
      "stay: 1.3862943611198906\n",
      "significance: 1.3862943611198906\n",
      "celebrate: 0.6931471805599453\n",
      "glee: 1.3862943611198906\n",
      "on: 0.28768207245178085\n",
      "accompanied: 1.3862943611198906\n",
      ",: 0.6931471805599453\n",
      "pomp: 1.3862943611198906\n",
      "epitome: 1.3862943611198906\n",
      "powerful: 1.3862943611198906\n",
      "night: 1.3862943611198906\n",
      "from: 1.3862943611198906\n",
      "happiness: 1.3862943611198906\n",
      "the: 0.0\n",
      "shivratri: 0.0\n",
      "momentous: 1.3862943611198906\n",
      "energy: 1.3862943611198906\n",
      "to: 0.6931471805599453\n",
      "etc: 1.3862943611198906\n",
      "with: 0.6931471805599453\n",
      "since: 1.3862943611198906\n",
      "every: 1.3862943611198906\n",
      "at: 1.3862943611198906\n",
      "awake: 1.3862943611198906\n"
     ]
    }
   ],
   "source": [
    "# print results\n",
    "print(\"Term frequency:\")\n",
    "for i, frequencies in enumerate(doc_term_frequency):\n",
    "    print(f\"Document {i+1}: {frequencies}\")\n",
    "    \n",
    "print(\"Inverse document frequency:\")\n",
    "for term, idf in doc_inverse_document_frequency.items():\n",
    "    print(f\"{term}: {idf}\")"
   ]
  },
  {
   "cell_type": "code",
   "execution_count": 19,
   "id": "0d20f2f8",
   "metadata": {},
   "outputs": [
    {
     "name": "stdout",
     "output_type": "stream",
     "text": [
      "\n",
      "Document 1 cosine similarity score: 0.012525376910438596\n",
      "Document 2 cosine similarity score: 0.2011140729233289\n",
      "Document 3 cosine similarity score: 0.009560317414142573\n",
      "Document 4 cosine similarity score: 0.19430731013853395\n"
     ]
    }
   ],
   "source": [
    "# cosine similarity\n",
    "def cosine_similarity(doc_vector, query_vector):\n",
    "    numerator = sum([doc_vector.get(term, 0) * query_vector.get(term, 0) for term in set(doc_vector.keys()) & set(query_vector.keys())])\n",
    "    denominator = math.sqrt(sum([count**2 for count in doc_vector.values()])) * math.sqrt(sum([count**2 for count in query_vector.values()]))\n",
    "    if denominator > 0:\n",
    "        return numerator / denominator\n",
    "    else:\n",
    "        return 0\n",
    "\n",
    "doc_vectors = []\n",
    "for frequencies in doc_term_frequency:\n",
    "    vector = {term: frequency*doc_inverse_document_frequency[term] for term, frequency in frequencies.items()}\n",
    "    doc_vectors.append(vector)\n",
    " \n",
    "query_vector = {term: query_tokens.count(term)/len(query_tokens) * doc_inverse_document_frequency[term] for term in query_tokens}\n",
    "\n",
    "def cosine_similarity(doc_vector, query_vector):\n",
    "    numerator = sum([doc_vector.get(term, 0) * query_vector.get(term, 0) for term in set(doc_vector.keys()) & set(query_vector.keys())])\n",
    "    denominator = math.sqrt(sum([count**2 for count in doc_vector.values()])) * math.sqrt(sum([count**2 for count in query_vector.values()]))\n",
    "    if denominator > 0:\n",
    "       return numerator / denominator\n",
    "    else:\n",
    "       return 0\n",
    "\n",
    "similarities = [cosine_similarity(doc_vector, query_vector) for doc_vector in doc_vectors]\n",
    "print()\n",
    "for i, score in enumerate(similarities):\n",
    "    print(f\"Document {i+1} cosine similarity score: {score}\")"
   ]
  },
  {
   "cell_type": "code",
   "execution_count": 20,
   "id": "42ffe404",
   "metadata": {},
   "outputs": [],
   "source": [
    "doc1 = \"Every year Maha Shivratri is celebrated with a lot of pomp and grandeur. It is considered to be a very special time of the year since millions of people celebrate this momentous occasion with a lot of fervour and glee.\"\n",
    "doc2 = \"Lord Shiva devotees celebrate this occasion with a lot of grandness. It is accompanied by folk dances, songs, prayers, chants, mantras etc. This year, the beautiful occasion of Maha Shivratri will be celebrated on February 18.\"\n",
    "doc3 = \"People keep a fast on this Maha shivratri, stay awake at night and pray to the lord for blessings, happiness, hope and prosperity. This festival holds a lot of significance and is considered to be one of the most important festivals in India.\"\n",
    "doc4 = \"The festival of Maha Shivratri will be celebrated on February 18 and is a very auspicious festival. This Hindu festival celebrates the power of Lord Shiva. Lord Shiva protects his devotees from negative and evil spirits. He is the epitome of powerful and auspicious energy.\"\n",
    "     \n"
   ]
  },
  {
   "cell_type": "code",
   "execution_count": 21,
   "id": "704c980a",
   "metadata": {},
   "outputs": [],
   "source": [
    "def Jaccard_Similarity(doc1, doc2): \n",
    "    # List the unique words in a document\n",
    "    words_doc1 = set(doc1.lower().split()) \n",
    "    words_doc2 = set(doc2.lower().split()) \n",
    "    # Find the intersection of words list of doc1 & doc2\n",
    "    intersection = words_doc1.intersection(words_doc2)\n",
    "    # Find the union of words list of doc1 & doc2\n",
    "    union = words_doc1.union(words_doc2)    \n",
    "    # Calculate Jaccard similarity score \n",
    "    # using length of intersection set divided by length of union set\n",
    "    return float(len(intersection)) / len(union)"
   ]
  },
  {
   "cell_type": "code",
   "execution_count": 26,
   "id": "ed67924b",
   "metadata": {},
   "outputs": [
    {
     "data": {
      "text/plain": [
       "0.2857142857142857"
      ]
     },
     "execution_count": 26,
     "metadata": {},
     "output_type": "execute_result"
    }
   ],
   "source": [
    "Jaccard_Similarity(doc1,doc2)"
   ]
  },
  {
   "cell_type": "code",
   "execution_count": 27,
   "id": "6f9d2152",
   "metadata": {
    "scrolled": true
   },
   "outputs": [
    {
     "data": {
      "text/plain": [
       "0.1694915254237288"
      ]
     },
     "execution_count": 27,
     "metadata": {},
     "output_type": "execute_result"
    }
   ],
   "source": [
    "Jaccard_Similarity(doc2,doc3)"
   ]
  },
  {
   "cell_type": "code",
   "execution_count": 28,
   "id": "b046e96e",
   "metadata": {},
   "outputs": [
    {
     "data": {
      "text/plain": [
       "0.18333333333333332"
      ]
     },
     "execution_count": 28,
     "metadata": {},
     "output_type": "execute_result"
    }
   ],
   "source": [
    "Jaccard_Similarity(doc3,doc4)\n"
   ]
  },
  {
   "cell_type": "code",
   "execution_count": 29,
   "id": "1e9ed432",
   "metadata": {},
   "outputs": [
    {
     "data": {
      "text/plain": [
       "0.2037037037037037"
      ]
     },
     "execution_count": 29,
     "metadata": {},
     "output_type": "execute_result"
    }
   ],
   "source": [
    "Jaccard_Similarity(doc4,doc1)"
   ]
  },
  {
   "cell_type": "code",
   "execution_count": null,
   "id": "817d26f4",
   "metadata": {},
   "outputs": [],
   "source": []
  }
 ],
 "metadata": {
  "kernelspec": {
   "display_name": "Python 3",
   "language": "python",
   "name": "python3"
  },
  "language_info": {
   "codemirror_mode": {
    "name": "ipython",
    "version": 3
   },
   "file_extension": ".py",
   "mimetype": "text/x-python",
   "name": "python",
   "nbconvert_exporter": "python",
   "pygments_lexer": "ipython3",
   "version": "3.8.8"
  }
 },
 "nbformat": 4,
 "nbformat_minor": 5
}
